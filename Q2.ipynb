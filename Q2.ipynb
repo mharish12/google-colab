{
  "nbformat": 4,
  "nbformat_minor": 0,
  "metadata": {
    "colab": {
      "provenance": [],
      "authorship_tag": "ABX9TyN67iF2dkij8AAgZh6y9V8z",
      "include_colab_link": true
    },
    "kernelspec": {
      "name": "ir",
      "display_name": "R"
    },
    "language_info": {
      "name": "R"
    }
  },
  "cells": [
    {
      "cell_type": "markdown",
      "metadata": {
        "id": "view-in-github",
        "colab_type": "text"
      },
      "source": [
        "<a href=\"https://colab.research.google.com/github/mharish12/google-colab/blob/main/Q2.ipynb\" target=\"_parent\"><img src=\"https://colab.research.google.com/assets/colab-badge.svg\" alt=\"Open In Colab\"/></a>"
      ]
    },
    {
      "cell_type": "code",
      "execution_count": 1,
      "metadata": {
        "id": "LGZ2oHGwdEB_",
        "colab": {
          "base_uri": "https://localhost:8080/",
          "height": 34
        },
        "outputId": "6b1bd3ed-a36b-40ef-e5d2-e6e9f2dcee91"
      },
      "outputs": [
        {
          "output_type": "display_data",
          "data": {
            "text/html": [
              "10"
            ],
            "text/markdown": "10",
            "text/latex": "10",
            "text/plain": [
              "[1] 10"
            ]
          },
          "metadata": {}
        }
      ],
      "source": [
        "5 + 5"
      ]
    },
    {
      "cell_type": "code",
      "source": [
        "install.packages(\"readxl\")\n",
        "install.packages(\"dplyr\")"
      ],
      "metadata": {
        "colab": {
          "base_uri": "https://localhost:8080/"
        },
        "id": "Hl90KI2yn8wF",
        "outputId": "719f3ed6-a581-4399-b312-5085e1e847e8"
      },
      "execution_count": 55,
      "outputs": [
        {
          "output_type": "stream",
          "name": "stderr",
          "text": [
            "Installing package into ‘/usr/local/lib/R/site-library’\n",
            "(as ‘lib’ is unspecified)\n",
            "\n",
            "Installing package into ‘/usr/local/lib/R/site-library’\n",
            "(as ‘lib’ is unspecified)\n",
            "\n"
          ]
        }
      ]
    },
    {
      "cell_type": "markdown",
      "source": [
        "```\n",
        "banking_and_credit_history_fraud_data Rows:  6\n",
        "banking_and_credit_history_fraud_data Columns:  10\n",
        "date_range Rows:  1\n",
        "date_range Columns:  10\n",
        "banking_and_credit_history_fraud_names Rows:  1\n",
        "banking_and_credit_history_fraud_names Columns:  6\n",
        "```\n",
        "\n"
      ],
      "metadata": {
        "id": "KdD7-vhs2emo"
      }
    },
    {
      "cell_type": "code",
      "source": [
        "# Load the readxl package\n",
        "library(readxl)\n",
        "library(dplyr)\n",
        "\n",
        "excel_file <- \"cw_r.xlsx\"\n",
        "\n",
        "sheet_names <- excel_sheets(excel_file)\n",
        "\n",
        "# sheet_names\n",
        "\n",
        "# Read data from Excel file into a dataframe\n",
        "df_list <- list()\n",
        "\n",
        "# Loop through each sheet and read data into a dataframe\n",
        "for (sheet in sheet_names) {\n",
        "  df_name <- make.names(sheet)  # Use sheet names as valid dataframe names\n",
        "  # print(df_name)\n",
        "  df_list[[df_name]] <- read_excel(excel_file, sheet = sheet)\n",
        "}\n",
        "\n",
        "sheet_data <- df_list[[\"Table.3d\"]]\n",
        "\n",
        "date_range = sheet_data[8,2:11]\n",
        "\n",
        "# head(date_range)\n",
        "banking_and_credit_history_fraud_names = t(sheet_data[9:14, 1])\n",
        "\n",
        "banking_and_credit_history_fraud_data = tibble(sheet_data[9:14,2:11])\n",
        "banking_and_credit_history_fraud_data[] <- apply(banking_and_credit_history_fraud_data, 2, function(x) as.numeric(as.character(x)))\n",
        "\n",
        "# head(banking_and_credit_history_fraud_data)\n",
        "# str(banking_and_credit_history_fraud_data)\n",
        "\n",
        "summary(banking_and_credit_history_fraud_data)\n",
        "# banking_and_credit_history_fraud_names\n",
        "\n",
        "boxplot(banking_and_credit_history_fraud_data, main = \"Boxplot of banking_and_credit_history_fraud\", names= date_range)\n",
        "\n",
        "\n",
        "\n",
        "consumer_and_retail_fraud = sheet_data[39:47,2:11]\n",
        "consumer_and_retail_fraud[] <- apply(consumer_and_retail_fraud, 2, function(x) as.numeric(as.character(x)))\n",
        "summary(consumer_and_retail_fraud)\n",
        "\n",
        "boxplot(consumer_and_retail_fraud, main = \"Boxplot of consumer_and_retail_fraud\", names= date_range)\n",
        "\n",
        "# consumer_and_retail_fraud\n",
        "\n",
        "\n",
        "# summary(banking_and_credit_history_fraud)\n",
        "\n",
        "# boxplot(banking_and_credit_history_fraud)\n",
        "\n",
        "\n"
      ],
      "metadata": {
        "colab": {
          "base_uri": "https://localhost:8080/",
          "height": 1000
        },
        "id": "ygMTz35xnWsK",
        "outputId": "4890ce04-3ec4-40e3-e501-78bfa6b9a8e2"
      },
      "execution_count": 66,
      "outputs": [
        {
          "output_type": "stream",
          "name": "stderr",
          "text": [
            "\u001b[1m\u001b[22mNew names:\n",
            "\u001b[36m•\u001b[39m `` -> `...2`\n",
            "\u001b[1m\u001b[22mNew names:\n",
            "\u001b[36m•\u001b[39m `` -> `...2`\n",
            "\u001b[36m•\u001b[39m `` -> `...3`\n",
            "\u001b[36m•\u001b[39m `` -> `...4`\n",
            "\u001b[36m•\u001b[39m `` -> `...5`\n",
            "\u001b[36m•\u001b[39m `` -> `...6`\n",
            "\u001b[36m•\u001b[39m `` -> `...7`\n",
            "\u001b[36m•\u001b[39m `` -> `...8`\n",
            "\u001b[1m\u001b[22mNew names:\n",
            "\u001b[36m•\u001b[39m `` -> `...2`\n",
            "\u001b[36m•\u001b[39m `` -> `...3`\n",
            "\u001b[36m•\u001b[39m `` -> `...4`\n",
            "\u001b[36m•\u001b[39m `` -> `...5`\n",
            "\u001b[36m•\u001b[39m `` -> `...6`\n",
            "\u001b[36m•\u001b[39m `` -> `...7`\n",
            "\u001b[36m•\u001b[39m `` -> `...8`\n",
            "\u001b[1m\u001b[22mNew names:\n",
            "\u001b[36m•\u001b[39m `` -> `...2`\n",
            "\u001b[36m•\u001b[39m `` -> `...3`\n",
            "\u001b[36m•\u001b[39m `` -> `...4`\n",
            "\u001b[36m•\u001b[39m `` -> `...5`\n",
            "\u001b[36m•\u001b[39m `` -> `...6`\n",
            "\u001b[36m•\u001b[39m `` -> `...7`\n",
            "\u001b[36m•\u001b[39m `` -> `...8`\n",
            "\u001b[36m•\u001b[39m `` -> `...9`\n",
            "\u001b[36m•\u001b[39m `` -> `...10`\n",
            "\u001b[36m•\u001b[39m `` -> `...11`\n",
            "\u001b[36m•\u001b[39m `` -> `...12`\n",
            "\u001b[1m\u001b[22mNew names:\n",
            "\u001b[36m•\u001b[39m `` -> `...2`\n",
            "\u001b[36m•\u001b[39m `` -> `...3`\n",
            "\u001b[36m•\u001b[39m `` -> `...4`\n",
            "\u001b[36m•\u001b[39m `` -> `...5`\n",
            "\u001b[1m\u001b[22mNew names:\n",
            "\u001b[36m•\u001b[39m `` -> `...2`\n",
            "\u001b[36m•\u001b[39m `` -> `...3`\n",
            "\u001b[36m•\u001b[39m `` -> `...4`\n",
            "\u001b[36m•\u001b[39m `` -> `...5`\n",
            "\u001b[36m•\u001b[39m `` -> `...6`\n",
            "\u001b[36m•\u001b[39m `` -> `...7`\n",
            "\u001b[36m•\u001b[39m `` -> `...8`\n",
            "\u001b[36m•\u001b[39m `` -> `...9`\n",
            "\u001b[36m•\u001b[39m `` -> `...10`\n",
            "\u001b[1m\u001b[22mNew names:\n",
            "\u001b[36m•\u001b[39m `` -> `...2`\n",
            "\u001b[36m•\u001b[39m `` -> `...3`\n",
            "\u001b[36m•\u001b[39m `` -> `...4`\n",
            "\u001b[36m•\u001b[39m `` -> `...5`\n",
            "\u001b[36m•\u001b[39m `` -> `...6`\n",
            "\u001b[36m•\u001b[39m `` -> `...7`\n",
            "\u001b[36m•\u001b[39m `` -> `...8`\n",
            "\u001b[36m•\u001b[39m `` -> `...9`\n",
            "\u001b[36m•\u001b[39m `` -> `...10`\n"
          ]
        },
        {
          "output_type": "display_data",
          "data": {
            "text/plain": [
              "Plot with title “Boxplot of banking_and_credit_history_fraud”"
            ],
            "image/png": "[encoded data removed]"
          },
          "metadata": {
            "image/png": {
              "width": 420,
              "height": 420
            }
          }
        },
        {
          "output_type": "display_data",
          "data": {
            "text/plain": [
              "Plot with title “Boxplot of consumer_and_retail_fraud”"
            ],
            "image/png": "[encoded data removed]"
          },
          "metadata": {
            "image/png": {
              "width": 420,
              "height": 420
            }
          }
        }
      ]
    }
  ]
}