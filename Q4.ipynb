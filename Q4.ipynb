{
  "nbformat": 4,
  "nbformat_minor": 0,
  "metadata": {
    "colab": {
      "provenance": [],
      "authorship_tag": "ABX9TyMv6ritDoI2K7jrOnAmXcKs",
      "include_colab_link": true
    },
    "kernelspec": {
      "name": "ir",
      "display_name": "R"
    },
    "language_info": {
      "name": "R"
    }
  },
  "cells": [
    {
      "cell_type": "markdown",
      "metadata": {
        "id": "view-in-github",
        "colab_type": "text"
      },
      "source": [
        "<a href=\"https://colab.research.google.com/github/mharish12/google-colab/blob/main/Q4.ipynb\" target=\"_parent\"><img src=\"https://colab.research.google.com/assets/colab-badge.svg\" alt=\"Open In Colab\"/></a>"
      ]
    },
    {
      "cell_type": "code",
      "source": [
        "install.packages(\"readxl\")\n",
        "install.packages(\"dplyr\")"
      ],
      "metadata": {
        "colab": {
          "base_uri": "https://localhost:8080/"
        },
        "id": "DUw7x0s9DRbb",
        "outputId": "d484b777-e1e2-4a56-a50a-8c21fcbf4140"
      },
      "execution_count": 1,
      "outputs": [
        {
          "output_type": "stream",
          "name": "stderr",
          "text": [
            "Installing package into ‘/usr/local/lib/R/site-library’\n",
            "(as ‘lib’ is unspecified)\n",
            "\n",
            "Installing package into ‘/usr/local/lib/R/site-library’\n",
            "(as ‘lib’ is unspecified)\n",
            "\n"
          ]
        }
      ]
    },
    {
      "cell_type": "code",
      "execution_count": 28,
      "metadata": {
        "colab": {
          "base_uri": "https://localhost:8080/",
          "height": 1000
        },
        "id": "pMxWi0SuDOft",
        "outputId": "ae636fbd-ceaf-42bb-87cc-15b3224e4f3b"
      },
      "outputs": [
        {
          "output_type": "stream",
          "name": "stderr",
          "text": [
            "\u001b[1m\u001b[22mNew names:\n",
            "\u001b[36m•\u001b[39m `` -> `...2`\n",
            "\u001b[1m\u001b[22mNew names:\n",
            "\u001b[36m•\u001b[39m `` -> `...2`\n",
            "\u001b[36m•\u001b[39m `` -> `...3`\n",
            "\u001b[36m•\u001b[39m `` -> `...4`\n",
            "\u001b[36m•\u001b[39m `` -> `...5`\n",
            "\u001b[36m•\u001b[39m `` -> `...6`\n",
            "\u001b[36m•\u001b[39m `` -> `...7`\n",
            "\u001b[36m•\u001b[39m `` -> `...8`\n",
            "\u001b[1m\u001b[22mNew names:\n",
            "\u001b[36m•\u001b[39m `` -> `...2`\n",
            "\u001b[36m•\u001b[39m `` -> `...3`\n",
            "\u001b[36m•\u001b[39m `` -> `...4`\n",
            "\u001b[36m•\u001b[39m `` -> `...5`\n",
            "\u001b[36m•\u001b[39m `` -> `...6`\n",
            "\u001b[36m•\u001b[39m `` -> `...7`\n",
            "\u001b[36m•\u001b[39m `` -> `...8`\n",
            "\u001b[1m\u001b[22mNew names:\n",
            "\u001b[36m•\u001b[39m `` -> `...2`\n",
            "\u001b[36m•\u001b[39m `` -> `...3`\n",
            "\u001b[36m•\u001b[39m `` -> `...4`\n",
            "\u001b[36m•\u001b[39m `` -> `...5`\n",
            "\u001b[36m•\u001b[39m `` -> `...6`\n",
            "\u001b[36m•\u001b[39m `` -> `...7`\n",
            "\u001b[36m•\u001b[39m `` -> `...8`\n",
            "\u001b[36m•\u001b[39m `` -> `...9`\n",
            "\u001b[36m•\u001b[39m `` -> `...10`\n",
            "\u001b[36m•\u001b[39m `` -> `...11`\n",
            "\u001b[36m•\u001b[39m `` -> `...12`\n",
            "\u001b[1m\u001b[22mNew names:\n",
            "\u001b[36m•\u001b[39m `` -> `...2`\n",
            "\u001b[36m•\u001b[39m `` -> `...3`\n",
            "\u001b[36m•\u001b[39m `` -> `...4`\n",
            "\u001b[36m•\u001b[39m `` -> `...5`\n",
            "\u001b[1m\u001b[22mNew names:\n",
            "\u001b[36m•\u001b[39m `` -> `...2`\n",
            "\u001b[36m•\u001b[39m `` -> `...3`\n",
            "\u001b[36m•\u001b[39m `` -> `...4`\n",
            "\u001b[36m•\u001b[39m `` -> `...5`\n",
            "\u001b[36m•\u001b[39m `` -> `...6`\n",
            "\u001b[36m•\u001b[39m `` -> `...7`\n",
            "\u001b[36m•\u001b[39m `` -> `...8`\n",
            "\u001b[36m•\u001b[39m `` -> `...9`\n",
            "\u001b[36m•\u001b[39m `` -> `...10`\n",
            "\u001b[1m\u001b[22mNew names:\n",
            "\u001b[36m•\u001b[39m `` -> `...2`\n",
            "\u001b[36m•\u001b[39m `` -> `...3`\n",
            "\u001b[36m•\u001b[39m `` -> `...4`\n",
            "\u001b[36m•\u001b[39m `` -> `...5`\n",
            "\u001b[36m•\u001b[39m `` -> `...6`\n",
            "\u001b[36m•\u001b[39m `` -> `...7`\n",
            "\u001b[36m•\u001b[39m `` -> `...8`\n",
            "\u001b[36m•\u001b[39m `` -> `...9`\n",
            "\u001b[36m•\u001b[39m `` -> `...10`\n"
          ]
        },
        {
          "output_type": "display_data",
          "data": {
            "text/html": [
              "65"
            ],
            "text/markdown": "65",
            "text/latex": "65",
            "text/plain": [
              "[1] 65"
            ]
          },
          "metadata": {}
        },
        {
          "output_type": "display_data",
          "data": {
            "text/html": [
              "5"
            ],
            "text/markdown": "5",
            "text/latex": "5",
            "text/plain": [
              "[1] 5"
            ]
          },
          "metadata": {}
        },
        {
          "output_type": "display_data",
          "data": {
            "text/html": [
              "<table class=\"dataframe\">\n",
              "<caption>A tibble: 57 × 4</caption>\n",
              "<thead>\n",
              "\t<tr><th scope=col>...2</th><th scope=col>...3</th><th scope=col>...4</th><th scope=col>...5</th></tr>\n",
              "\t<tr><th scope=col>&lt;chr&gt;</th><th scope=col>&lt;chr&gt;</th><th scope=col>&lt;chr&gt;</th><th scope=col>&lt;chr&gt;</th></tr>\n",
              "</thead>\n",
              "<tbody>\n",
              "\t<tr><td>Area Name                  </td><td>Number of offences</td><td>Rate per 1,000 population</td><td>% change from\r\n",
              " previous year</td></tr>\n",
              "\t<tr><td>ENGLAND AND WALES [note 13]</td><td>383644            </td><td>6.4240752351769075       </td><td>-10.465846264431523            </td></tr>\n",
              "\t<tr><td>ENGLAND                    </td><td>316108            </td><td>5.5898714164057388       </td><td>-17.471307580646844            </td></tr>\n",
              "\t<tr><td>North East                 </td><td>10718             </td><td>3.998115461903943        </td><td>-19.078897697244244            </td></tr>\n",
              "\t<tr><td>Cleveland                  </td><td>2258              </td><td>3.9630165260246271       </td><td>-15.71481896229937             </td></tr>\n",
              "\t<tr><td>Durham                     </td><td>2606              </td><td>4.06837238564923         </td><td>-22.092675635276539            </td></tr>\n",
              "\t<tr><td>Northumbria                </td><td>5854              </td><td>3.9811104673146342       </td><td>-18.930895997784237            </td></tr>\n",
              "\t<tr><td>North West                 </td><td>36433             </td><td>4.9451262416769097       </td><td>-14.842343921651125            </td></tr>\n",
              "\t<tr><td>Cheshire                   </td><td>6019              </td><td>5.62709531938604         </td><td>-15.177564825253665            </td></tr>\n",
              "\t<tr><td>Cumbria                    </td><td>2157              </td><td>4.3158903599776703       </td><td>-17.765916889058332            </td></tr>\n",
              "\t<tr><td>Greater Manchester         </td><td>14335             </td><td>5.0328513358560194       </td><td>-14.910666587523004            </td></tr>\n",
              "\t<tr><td>Lancashire                 </td><td>7195              </td><td>4.7476487756081047       </td><td>-13.019825918762084            </td></tr>\n",
              "\t<tr><td>Merseyside                 </td><td>6727              </td><td>4.6902366104795794       </td><td>-15.330396475770925            </td></tr>\n",
              "\t<tr><td>Yorkshire and The Humber   </td><td>27320             </td><td>4.9435884444524865       </td><td>-14.662335228337597            </td></tr>\n",
              "\t<tr><td>Humberside                 </td><td>4835              </td><td>5.174227531171109        </td><td>-7.1263926238955051            </td></tr>\n",
              "\t<tr><td>North Yorkshire            </td><td>4167              </td><td>5.0106899528872493       </td><td>-22.51766455931573             </td></tr>\n",
              "\t<tr><td>South Yorkshire            </td><td>6260              </td><td>4.4238594428198494       </td><td>-14.620840152755044            </td></tr>\n",
              "\t<tr><td>West Yorkshire             </td><td>12058             </td><td>5.1414890192240863       </td><td>-14.470137608171374            </td></tr>\n",
              "\t<tr><td>East Midlands              </td><td>27244             </td><td>5.5993290012728183       </td><td>-11.599987020993542            </td></tr>\n",
              "\t<tr><td>Derbyshire                 </td><td>4928              </td><td>4.6315920063684395       </td><td>-19.51657684141761             </td></tr>\n",
              "\t<tr><td>Leicestershire             </td><td>5944              </td><td>5.3665728599842719       </td><td>-8.3423284502698536            </td></tr>\n",
              "\t<tr><td>Lincolnshire               </td><td>4464              </td><td>5.8251438995841234       </td><td>-16.231938449990611            </td></tr>\n",
              "\t<tr><td>Northamptonshire           </td><td>4507              </td><td>5.9523416461849941       </td><td>-13.824091778202675            </td></tr>\n",
              "\t<tr><td>Nottinghamshire            </td><td>7401              </td><td>6.3230739656976871       </td><td>-3.2801881860951343            </td></tr>\n",
              "\t<tr><td>West Midlands              </td><td>30761             </td><td>5.1595716755432681       </td><td>-16.223650525627754            </td></tr>\n",
              "\t<tr><td>Staffordshire              </td><td>5577              </td><td>4.8929894349329786       </td><td>-19.197334106056218            </td></tr>\n",
              "\t<tr><td>Warwickshire               </td><td>3097              </td><td>5.3050261568451456       </td><td>-22.690963554667999            </td></tr>\n",
              "\t<tr><td>West Mercia                </td><td>6474              </td><td>4.9860523004077262       </td><td>-18.566037735849061            </td></tr>\n",
              "\t<tr><td>West Midlands              </td><td>15613             </td><td>5.3106760814129066       </td><td>-12.581187010078388            </td></tr>\n",
              "\t<tr><td>East                       </td><td>35786             </td><td>5.7082598452966833       </td><td>-14.544976956324474            </td></tr>\n",
              "\t<tr><td>Bedfordshire               </td><td>4345              </td><td>6.3680638301302483       </td><td>-11.272207473963647            </td></tr>\n",
              "\t<tr><td>Cambridgeshire             </td><td>5112              </td><td>5.9453612923484869       </td><td>-13.968360821272297            </td></tr>\n",
              "\t<tr><td>Essex                      </td><td>10113             </td><td>5.4486297070735201       </td><td>-16.902218570254725            </td></tr>\n",
              "\t<tr><td>Hertfordshire              </td><td>7963              </td><td>6.6598532038886917       </td><td>-12.561765674755687            </td></tr>\n",
              "\t<tr><td>Norfolk                    </td><td>4629              </td><td>5.0643353292364992       </td><td>-14.230127848804896            </td></tr>\n",
              "\t<tr><td>Suffolk                    </td><td>3624              </td><td>4.7606161477367364       </td><td>-16.956920256645279            </td></tr>\n",
              "\t<tr><td>London [note 14]           </td><td>71203             </td><td>7.9092579740178506       </td><td>-18.388235563808088            </td></tr>\n",
              "\t<tr><td>City of London             </td><td>20591             </td><td>[u1]                     </td><td>[u]                            </td></tr>\n",
              "\t<tr><td>Metropolitan Police        </td><td>50612             </td><td>5.6288404112750303       </td><td>-33.399128867132497            </td></tr>\n",
              "\t<tr><td>South East                 </td><td>53723             </td><td>5.828518546445177        </td><td>-15.015423554536111            </td></tr>\n",
              "\t<tr><td>Hampshire                  </td><td>10167             </td><td>5.0858751036734153       </td><td>-13.868180277871911            </td></tr>\n",
              "\t<tr><td>Kent                       </td><td>11363             </td><td>6.082328488560373        </td><td>-13.385166552328688            </td></tr>\n",
              "\t<tr><td>Surrey                     </td><td>7781              </td><td>6.4848691941627008       </td><td>-14.522684829177191            </td></tr>\n",
              "\t<tr><td>Sussex                     </td><td>9886              </td><td>5.7536120123965135       </td><td>-17.917635337097316            </td></tr>\n",
              "\t<tr><td>Thames Valley              </td><td>14526             </td><td>5.9730951661351899       </td><td>-15.275590551181107            </td></tr>\n",
              "\t<tr><td>South West                 </td><td>22920             </td><td>4.0500832016437824       </td><td>-34.721312409216488            </td></tr>\n",
              "\t<tr><td>Avon and Somerset          </td><td>2048              </td><td>1.1841819199474519       </td><td>-80.615238996687182            </td></tr>\n",
              "\t<tr><td>Devon and Cornwall         </td><td>8155              </td><td>4.5678648606563161       </td><td>-18.253809141940657            </td></tr>\n",
              "\t<tr><td>Dorset                     </td><td>5133              </td><td>6.6080486109323102       </td><td>-6.1780296106744625            </td></tr>\n",
              "\t<tr><td>Gloucestershire            </td><td>3298              </td><td>5.1478966674471245       </td><td>-23.123543123543122            </td></tr>\n",
              "\t<tr><td>Wiltshire                  </td><td>4286              </td><td>5.8958581802624934       </td><td>-10.87544187980869             </td></tr>\n",
              "\t<tr><td>WALES                      </td><td>16598             </td><td>5.2366460477803729       </td><td>-12.830208497452865            </td></tr>\n",
              "\t<tr><td>Dyfed-Powys                </td><td>4391              </td><td>8.3998247725007591       </td><td>-5.7927483372666844            </td></tr>\n",
              "\t<tr><td>Gwent                      </td><td>2697              </td><td>4.508570798102288        </td><td>-12.349691257718554            </td></tr>\n",
              "\t<tr><td>North Wales                </td><td>3380              </td><td>4.8054981723467751       </td><td>-15.096709369505145            </td></tr>\n",
              "\t<tr><td>South Wales                </td><td>6130              </td><td>4.5566654426358193       </td><td>-16.279704998634248            </td></tr>\n",
              "\t<tr><td>Unknown [note 15]          </td><td>50938             </td><td>[z]                      </td><td>[z]                            </td></tr>\n",
              "</tbody>\n",
              "</table>\n"
            ],
            "text/markdown": "\nA tibble: 57 × 4\n\n| ...2 &lt;chr&gt; | ...3 &lt;chr&gt; | ...4 &lt;chr&gt; | ...5 &lt;chr&gt; |\n|---|---|---|---|\n| Area Name                   | Number of offences | Rate per 1,000 population | % change from\r\n previous year |\n| ENGLAND AND WALES [note 13] | 383644             | 6.4240752351769075        | -10.465846264431523             |\n| ENGLAND                     | 316108             | 5.5898714164057388        | -17.471307580646844             |\n| North East                  | 10718              | 3.998115461903943         | -19.078897697244244             |\n| Cleveland                   | 2258               | 3.9630165260246271        | -15.71481896229937              |\n| Durham                      | 2606               | 4.06837238564923          | -22.092675635276539             |\n| Northumbria                 | 5854               | 3.9811104673146342        | -18.930895997784237             |\n| North West                  | 36433              | 4.9451262416769097        | -14.842343921651125             |\n| Cheshire                    | 6019               | 5.62709531938604          | -15.177564825253665             |\n| Cumbria                     | 2157               | 4.3158903599776703        | -17.765916889058332             |\n| Greater Manchester          | 14335              | 5.0328513358560194        | -14.910666587523004             |\n| Lancashire                  | 7195               | 4.7476487756081047        | -13.019825918762084             |\n| Merseyside                  | 6727               | 4.6902366104795794        | -15.330396475770925             |\n| Yorkshire and The Humber    | 27320              | 4.9435884444524865        | -14.662335228337597             |\n| Humberside                  | 4835               | 5.174227531171109         | -7.1263926238955051             |\n| North Yorkshire             | 4167               | 5.0106899528872493        | -22.51766455931573              |\n| South Yorkshire             | 6260               | 4.4238594428198494        | -14.620840152755044             |\n| West Yorkshire              | 12058              | 5.1414890192240863        | -14.470137608171374             |\n| East Midlands               | 27244              | 5.5993290012728183        | -11.599987020993542             |\n| Derbyshire                  | 4928               | 4.6315920063684395        | -19.51657684141761              |\n| Leicestershire              | 5944               | 5.3665728599842719        | -8.3423284502698536             |\n| Lincolnshire                | 4464               | 5.8251438995841234        | -16.231938449990611             |\n| Northamptonshire            | 4507               | 5.9523416461849941        | -13.824091778202675             |\n| Nottinghamshire             | 7401               | 6.3230739656976871        | -3.2801881860951343             |\n| West Midlands               | 30761              | 5.1595716755432681        | -16.223650525627754             |\n| Staffordshire               | 5577               | 4.8929894349329786        | -19.197334106056218             |\n| Warwickshire                | 3097               | 5.3050261568451456        | -22.690963554667999             |\n| West Mercia                 | 6474               | 4.9860523004077262        | -18.566037735849061             |\n| West Midlands               | 15613              | 5.3106760814129066        | -12.581187010078388             |\n| East                        | 35786              | 5.7082598452966833        | -14.544976956324474             |\n| Bedfordshire                | 4345               | 6.3680638301302483        | -11.272207473963647             |\n| Cambridgeshire              | 5112               | 5.9453612923484869        | -13.968360821272297             |\n| Essex                       | 10113              | 5.4486297070735201        | -16.902218570254725             |\n| Hertfordshire               | 7963               | 6.6598532038886917        | -12.561765674755687             |\n| Norfolk                     | 4629               | 5.0643353292364992        | -14.230127848804896             |\n| Suffolk                     | 3624               | 4.7606161477367364        | -16.956920256645279             |\n| London [note 14]            | 71203              | 7.9092579740178506        | -18.388235563808088             |\n| City of London              | 20591              | [u1]                      | [u]                             |\n| Metropolitan Police         | 50612              | 5.6288404112750303        | -33.399128867132497             |\n| South East                  | 53723              | 5.828518546445177         | -15.015423554536111             |\n| Hampshire                   | 10167              | 5.0858751036734153        | -13.868180277871911             |\n| Kent                        | 11363              | 6.082328488560373         | -13.385166552328688             |\n| Surrey                      | 7781               | 6.4848691941627008        | -14.522684829177191             |\n| Sussex                      | 9886               | 5.7536120123965135        | -17.917635337097316             |\n| Thames Valley               | 14526              | 5.9730951661351899        | -15.275590551181107             |\n| South West                  | 22920              | 4.0500832016437824        | -34.721312409216488             |\n| Avon and Somerset           | 2048               | 1.1841819199474519        | -80.615238996687182             |\n| Devon and Cornwall          | 8155               | 4.5678648606563161        | -18.253809141940657             |\n| Dorset                      | 5133               | 6.6080486109323102        | -6.1780296106744625             |\n| Gloucestershire             | 3298               | 5.1478966674471245        | -23.123543123543122             |\n| Wiltshire                   | 4286               | 5.8958581802624934        | -10.87544187980869              |\n| WALES                       | 16598              | 5.2366460477803729        | -12.830208497452865             |\n| Dyfed-Powys                 | 4391               | 8.3998247725007591        | -5.7927483372666844             |\n| Gwent                       | 2697               | 4.508570798102288         | -12.349691257718554             |\n| North Wales                 | 3380               | 4.8054981723467751        | -15.096709369505145             |\n| South Wales                 | 6130               | 4.5566654426358193        | -16.279704998634248             |\n| Unknown [note 15]           | 50938              | [z]                       | [z]                             |\n\n",
            "text/latex": "A tibble: 57 × 4\n\\begin{tabular}{llll}\n ...2 & ...3 & ...4 & ...5\\\\\n <chr> & <chr> & <chr> & <chr>\\\\\n\\hline\n\t Area Name                   & Number of offences & Rate per 1,000 population & \\% change from\r\n previous year\\\\\n\t ENGLAND AND WALES {[}note 13{]} & 383644             & 6.4240752351769075        & -10.465846264431523            \\\\\n\t ENGLAND                     & 316108             & 5.5898714164057388        & -17.471307580646844            \\\\\n\t North East                  & 10718              & 3.998115461903943         & -19.078897697244244            \\\\\n\t Cleveland                   & 2258               & 3.9630165260246271        & -15.71481896229937             \\\\\n\t Durham                      & 2606               & 4.06837238564923          & -22.092675635276539            \\\\\n\t Northumbria                 & 5854               & 3.9811104673146342        & -18.930895997784237            \\\\\n\t North West                  & 36433              & 4.9451262416769097        & -14.842343921651125            \\\\\n\t Cheshire                    & 6019               & 5.62709531938604          & -15.177564825253665            \\\\\n\t Cumbria                     & 2157               & 4.3158903599776703        & -17.765916889058332            \\\\\n\t Greater Manchester          & 14335              & 5.0328513358560194        & -14.910666587523004            \\\\\n\t Lancashire                  & 7195               & 4.7476487756081047        & -13.019825918762084            \\\\\n\t Merseyside                  & 6727               & 4.6902366104795794        & -15.330396475770925            \\\\\n\t Yorkshire and The Humber    & 27320              & 4.9435884444524865        & -14.662335228337597            \\\\\n\t Humberside                  & 4835               & 5.174227531171109         & -7.1263926238955051            \\\\\n\t North Yorkshire             & 4167               & 5.0106899528872493        & -22.51766455931573             \\\\\n\t South Yorkshire             & 6260               & 4.4238594428198494        & -14.620840152755044            \\\\\n\t West Yorkshire              & 12058              & 5.1414890192240863        & -14.470137608171374            \\\\\n\t East Midlands               & 27244              & 5.5993290012728183        & -11.599987020993542            \\\\\n\t Derbyshire                  & 4928               & 4.6315920063684395        & -19.51657684141761             \\\\\n\t Leicestershire              & 5944               & 5.3665728599842719        & -8.3423284502698536            \\\\\n\t Lincolnshire                & 4464               & 5.8251438995841234        & -16.231938449990611            \\\\\n\t Northamptonshire            & 4507               & 5.9523416461849941        & -13.824091778202675            \\\\\n\t Nottinghamshire             & 7401               & 6.3230739656976871        & -3.2801881860951343            \\\\\n\t West Midlands               & 30761              & 5.1595716755432681        & -16.223650525627754            \\\\\n\t Staffordshire               & 5577               & 4.8929894349329786        & -19.197334106056218            \\\\\n\t Warwickshire                & 3097               & 5.3050261568451456        & -22.690963554667999            \\\\\n\t West Mercia                 & 6474               & 4.9860523004077262        & -18.566037735849061            \\\\\n\t West Midlands               & 15613              & 5.3106760814129066        & -12.581187010078388            \\\\\n\t East                        & 35786              & 5.7082598452966833        & -14.544976956324474            \\\\\n\t Bedfordshire                & 4345               & 6.3680638301302483        & -11.272207473963647            \\\\\n\t Cambridgeshire              & 5112               & 5.9453612923484869        & -13.968360821272297            \\\\\n\t Essex                       & 10113              & 5.4486297070735201        & -16.902218570254725            \\\\\n\t Hertfordshire               & 7963               & 6.6598532038886917        & -12.561765674755687            \\\\\n\t Norfolk                     & 4629               & 5.0643353292364992        & -14.230127848804896            \\\\\n\t Suffolk                     & 3624               & 4.7606161477367364        & -16.956920256645279            \\\\\n\t London {[}note 14{]}            & 71203              & 7.9092579740178506        & -18.388235563808088            \\\\\n\t City of London              & 20591              & {[}u1{]}                      & {[}u{]}                            \\\\\n\t Metropolitan Police         & 50612              & 5.6288404112750303        & -33.399128867132497            \\\\\n\t South East                  & 53723              & 5.828518546445177         & -15.015423554536111            \\\\\n\t Hampshire                   & 10167              & 5.0858751036734153        & -13.868180277871911            \\\\\n\t Kent                        & 11363              & 6.082328488560373         & -13.385166552328688            \\\\\n\t Surrey                      & 7781               & 6.4848691941627008        & -14.522684829177191            \\\\\n\t Sussex                      & 9886               & 5.7536120123965135        & -17.917635337097316            \\\\\n\t Thames Valley               & 14526              & 5.9730951661351899        & -15.275590551181107            \\\\\n\t South West                  & 22920              & 4.0500832016437824        & -34.721312409216488            \\\\\n\t Avon and Somerset           & 2048               & 1.1841819199474519        & -80.615238996687182            \\\\\n\t Devon and Cornwall          & 8155               & 4.5678648606563161        & -18.253809141940657            \\\\\n\t Dorset                      & 5133               & 6.6080486109323102        & -6.1780296106744625            \\\\\n\t Gloucestershire             & 3298               & 5.1478966674471245        & -23.123543123543122            \\\\\n\t Wiltshire                   & 4286               & 5.8958581802624934        & -10.87544187980869             \\\\\n\t WALES                       & 16598              & 5.2366460477803729        & -12.830208497452865            \\\\\n\t Dyfed-Powys                 & 4391               & 8.3998247725007591        & -5.7927483372666844            \\\\\n\t Gwent                       & 2697               & 4.508570798102288         & -12.349691257718554            \\\\\n\t North Wales                 & 3380               & 4.8054981723467751        & -15.096709369505145            \\\\\n\t South Wales                 & 6130               & 4.5566654426358193        & -16.279704998634248            \\\\\n\t Unknown {[}note 15{]}           & 50938              & {[}z{]}                       & {[}z{]}                            \\\\\n\\end{tabular}\n",
            "text/plain": [
              "   ...2                        ...3               ...4                     \n",
              "1  Area Name                   Number of offences Rate per 1,000 population\n",
              "2  ENGLAND AND WALES [note 13] 383644             6.4240752351769075       \n",
              "3  ENGLAND                     316108             5.5898714164057388       \n",
              "4  North East                  10718              3.998115461903943        \n",
              "5  Cleveland                   2258               3.9630165260246271       \n",
              "6  Durham                      2606               4.06837238564923         \n",
              "7  Northumbria                 5854               3.9811104673146342       \n",
              "8  North West                  36433              4.9451262416769097       \n",
              "9  Cheshire                    6019               5.62709531938604         \n",
              "10 Cumbria                     2157               4.3158903599776703       \n",
              "11 Greater Manchester          14335              5.0328513358560194       \n",
              "12 Lancashire                  7195               4.7476487756081047       \n",
              "13 Merseyside                  6727               4.6902366104795794       \n",
              "14 Yorkshire and The Humber    27320              4.9435884444524865       \n",
              "15 Humberside                  4835               5.174227531171109        \n",
              "16 North Yorkshire             4167               5.0106899528872493       \n",
              "17 South Yorkshire             6260               4.4238594428198494       \n",
              "18 West Yorkshire              12058              5.1414890192240863       \n",
              "19 East Midlands               27244              5.5993290012728183       \n",
              "20 Derbyshire                  4928               4.6315920063684395       \n",
              "21 Leicestershire              5944               5.3665728599842719       \n",
              "22 Lincolnshire                4464               5.8251438995841234       \n",
              "23 Northamptonshire            4507               5.9523416461849941       \n",
              "24 Nottinghamshire             7401               6.3230739656976871       \n",
              "25 West Midlands               30761              5.1595716755432681       \n",
              "26 Staffordshire               5577               4.8929894349329786       \n",
              "27 Warwickshire                3097               5.3050261568451456       \n",
              "28 West Mercia                 6474               4.9860523004077262       \n",
              "29 West Midlands               15613              5.3106760814129066       \n",
              "30 East                        35786              5.7082598452966833       \n",
              "31 Bedfordshire                4345               6.3680638301302483       \n",
              "32 Cambridgeshire              5112               5.9453612923484869       \n",
              "33 Essex                       10113              5.4486297070735201       \n",
              "34 Hertfordshire               7963               6.6598532038886917       \n",
              "35 Norfolk                     4629               5.0643353292364992       \n",
              "36 Suffolk                     3624               4.7606161477367364       \n",
              "37 London [note 14]            71203              7.9092579740178506       \n",
              "38 City of London              20591              [u1]                     \n",
              "39 Metropolitan Police         50612              5.6288404112750303       \n",
              "40 South East                  53723              5.828518546445177        \n",
              "41 Hampshire                   10167              5.0858751036734153       \n",
              "42 Kent                        11363              6.082328488560373        \n",
              "43 Surrey                      7781               6.4848691941627008       \n",
              "44 Sussex                      9886               5.7536120123965135       \n",
              "45 Thames Valley               14526              5.9730951661351899       \n",
              "46 South West                  22920              4.0500832016437824       \n",
              "47 Avon and Somerset           2048               1.1841819199474519       \n",
              "48 Devon and Cornwall          8155               4.5678648606563161       \n",
              "49 Dorset                      5133               6.6080486109323102       \n",
              "50 Gloucestershire             3298               5.1478966674471245       \n",
              "51 Wiltshire                   4286               5.8958581802624934       \n",
              "52 WALES                       16598              5.2366460477803729       \n",
              "53 Dyfed-Powys                 4391               8.3998247725007591       \n",
              "54 Gwent                       2697               4.508570798102288        \n",
              "55 North Wales                 3380               4.8054981723467751       \n",
              "56 South Wales                 6130               4.5566654426358193       \n",
              "57 Unknown [note 15]           50938              [z]                      \n",
              "   ...5                           \n",
              "1  % change from\\r\\n previous year\n",
              "2  -10.465846264431523            \n",
              "3  -17.471307580646844            \n",
              "4  -19.078897697244244            \n",
              "5  -15.71481896229937             \n",
              "6  -22.092675635276539            \n",
              "7  -18.930895997784237            \n",
              "8  -14.842343921651125            \n",
              "9  -15.177564825253665            \n",
              "10 -17.765916889058332            \n",
              "11 -14.910666587523004            \n",
              "12 -13.019825918762084            \n",
              "13 -15.330396475770925            \n",
              "14 -14.662335228337597            \n",
              "15 -7.1263926238955051            \n",
              "16 -22.51766455931573             \n",
              "17 -14.620840152755044            \n",
              "18 -14.470137608171374            \n",
              "19 -11.599987020993542            \n",
              "20 -19.51657684141761             \n",
              "21 -8.3423284502698536            \n",
              "22 -16.231938449990611            \n",
              "23 -13.824091778202675            \n",
              "24 -3.2801881860951343            \n",
              "25 -16.223650525627754            \n",
              "26 -19.197334106056218            \n",
              "27 -22.690963554667999            \n",
              "28 -18.566037735849061            \n",
              "29 -12.581187010078388            \n",
              "30 -14.544976956324474            \n",
              "31 -11.272207473963647            \n",
              "32 -13.968360821272297            \n",
              "33 -16.902218570254725            \n",
              "34 -12.561765674755687            \n",
              "35 -14.230127848804896            \n",
              "36 -16.956920256645279            \n",
              "37 -18.388235563808088            \n",
              "38 [u]                            \n",
              "39 -33.399128867132497            \n",
              "40 -15.015423554536111            \n",
              "41 -13.868180277871911            \n",
              "42 -13.385166552328688            \n",
              "43 -14.522684829177191            \n",
              "44 -17.917635337097316            \n",
              "45 -15.275590551181107            \n",
              "46 -34.721312409216488            \n",
              "47 -80.615238996687182            \n",
              "48 -18.253809141940657            \n",
              "49 -6.1780296106744625            \n",
              "50 -23.123543123543122            \n",
              "51 -10.87544187980869             \n",
              "52 -12.830208497452865            \n",
              "53 -5.7927483372666844            \n",
              "54 -12.349691257718554            \n",
              "55 -15.096709369505145            \n",
              "56 -16.279704998634248            \n",
              "57 [z]                            "
            ]
          },
          "metadata": {}
        },
        {
          "output_type": "display_data",
          "data": {
            "text/html": [
              "<table class=\"dataframe\">\n",
              "<caption>A tibble: 1 × 4</caption>\n",
              "<thead>\n",
              "\t<tr><th scope=col>...2</th><th scope=col>...3</th><th scope=col>...4</th><th scope=col>...5</th></tr>\n",
              "\t<tr><th scope=col>&lt;chr&gt;</th><th scope=col>&lt;chr&gt;</th><th scope=col>&lt;chr&gt;</th><th scope=col>&lt;chr&gt;</th></tr>\n",
              "</thead>\n",
              "<tbody>\n",
              "\t<tr><td>Area Name</td><td>Number of offences</td><td>Rate per 1,000 population</td><td>% change from\r\n",
              " previous year</td></tr>\n",
              "</tbody>\n",
              "</table>\n"
            ],
            "text/markdown": "\nA tibble: 1 × 4\n\n| ...2 &lt;chr&gt; | ...3 &lt;chr&gt; | ...4 &lt;chr&gt; | ...5 &lt;chr&gt; |\n|---|---|---|---|\n| Area Name | Number of offences | Rate per 1,000 population | % change from\r\n previous year |\n\n",
            "text/latex": "A tibble: 1 × 4\n\\begin{tabular}{llll}\n ...2 & ...3 & ...4 & ...5\\\\\n <chr> & <chr> & <chr> & <chr>\\\\\n\\hline\n\t Area Name & Number of offences & Rate per 1,000 population & \\% change from\r\n previous year\\\\\n\\end{tabular}\n",
            "text/plain": [
              "  ...2      ...3               ...4                     \n",
              "1 Area Name Number of offences Rate per 1,000 population\n",
              "  ...5                           \n",
              "1 % change from\\r\\n previous year"
            ]
          },
          "metadata": {}
        },
        {
          "output_type": "error",
          "ename": "ERROR",
          "evalue": "ignored",
          "traceback": [
            "\u001b[1m\u001b[33mError\u001b[39m in `filter()`:\u001b[22m\n\u001b[1m\u001b[22m\u001b[36mℹ\u001b[39m In argument: `is.numeric(Value)`.\n\u001b[1mCaused by error:\u001b[22m\n\u001b[33m!\u001b[39m object 'Value' not found\nTraceback:\n",
            "1. sheet_data[11:r, 3:c] %>% filter(is.numeric(Value))",
            "2. filter(., is.numeric(Value))",
            "3. filter.data.frame(., is.numeric(Value))",
            "4. filter_rows(.data, dots, by)",
            "5. filter_eval(dots, mask = mask, error_call = error_call, user_env = user_env)",
            "6. withCallingHandlers(mask$eval_all_filter(dots, env_filter), error = dplyr_error_handler(dots = dots, \n .     mask = mask, bullets = filter_bullets, error_call = error_call), \n .     warning = function(cnd) {\n .         local_error_context(dots, i, mask)\n .         warning_handler(cnd)\n .     }, `dplyr:::signal_filter_one_column_matrix` = function(e) {\n .         warn_filter_one_column_matrix(env = error_call, user_env = user_env)\n .     }, `dplyr:::signal_filter_across` = function(e) {\n .         warn_filter_across(env = error_call, user_env = user_env)\n .     }, `dplyr:::signal_filter_data_frame` = function(e) {\n .         warn_filter_data_frame(env = error_call, user_env = user_env)\n .     })",
            "7. mask$eval_all_filter(dots, env_filter)",
            "8. eval()",
            "9. .handleSimpleError(function (cnd) \n . {\n .     local_error_context(dots, i = frame[[i_sym]], mask = mask)\n .     if (inherits(cnd, \"dplyr:::internal_error\")) {\n .         parent <- error_cnd(message = bullets(cnd))\n .     }\n .     else {\n .         parent <- cnd\n .     }\n .     message <- c(cnd_bullet_header(action), i = if (has_active_group_context(mask)) cnd_bullet_cur_group_label())\n .     abort(message, class = error_class, parent = parent, call = error_call)\n . }, \"object 'Value' not found\", base::quote(NULL))",
            "10. h(simpleError(msg, call))",
            "11. abort(message, class = error_class, parent = parent, call = error_call)",
            "12. signal_abort(cnd, .file)"
          ]
        }
      ],
      "source": [
        "library(readxl)\n",
        "library(dplyr)\n",
        "\n",
        "excel_file <- \"cw_r.xlsx\"\n",
        "\n",
        "sheet_names <- excel_sheets(excel_file)\n",
        "\n",
        "# sheet_names\n",
        "\n",
        "# Read data from Excel file into a dataframe\n",
        "df_list <- list()\n",
        "\n",
        "# Loop through each sheet and read data into a dataframe\n",
        "for (sheet in sheet_names) {\n",
        "  df_name <- make.names(sheet)  # Use sheet names as valid dataframe names\n",
        "  # print(df_name)\n",
        "  df_list[[df_name]] <- read_excel(excel_file, sheet = sheet)\n",
        "}\n",
        "\n",
        "# df_list[\"Table.5\"]\n",
        "sheet_data <- df_list[[\"Table.5\"]]\n",
        "r <- nrow(sheet_data)\n",
        "r\n",
        "c <- ncol(sheet_data)\n",
        "c\n",
        "new_sheet_data = sheet_data[9:r,2:c]\n",
        "# new_sheet_data\n",
        "\n",
        "area_names = new_sheet_data[1,]\n",
        "area_names\n",
        "\n",
        "sheet_data_filtered <- sheet_data[11:r,3:c] %>%\n",
        "  filter(is.numeric(Value))\n",
        "\n",
        "sheet_data_filtered\n",
        "# head(sheet_data)\n",
        "\n",
        "\n",
        "\n"
      ]
    },
    {
      "cell_type": "code",
      "source": [
        "df <- data.frame(\n",
        "  ID = c(1, 2, 3, 4),\n",
        "  Value = c(5.2, 8.1, \"not_long\", 12.7)\n",
        ")\n",
        "\n",
        "df"
      ],
      "metadata": {
        "colab": {
          "base_uri": "https://localhost:8080/",
          "height": 224
        },
        "id": "zU80aVHu34w-",
        "outputId": "b1070112-a370-43f8-b5ff-2a4f045755bf"
      },
      "execution_count": 29,
      "outputs": [
        {
          "output_type": "display_data",
          "data": {
            "text/html": [
              "<table class=\"dataframe\">\n",
              "<caption>A data.frame: 4 × 2</caption>\n",
              "<thead>\n",
              "\t<tr><th scope=col>ID</th><th scope=col>Value</th></tr>\n",
              "\t<tr><th scope=col>&lt;dbl&gt;</th><th scope=col>&lt;chr&gt;</th></tr>\n",
              "</thead>\n",
              "<tbody>\n",
              "\t<tr><td>1</td><td>5.2     </td></tr>\n",
              "\t<tr><td>2</td><td>8.1     </td></tr>\n",
              "\t<tr><td>3</td><td>not_long</td></tr>\n",
              "\t<tr><td>4</td><td>12.7    </td></tr>\n",
              "</tbody>\n",
              "</table>\n"
            ],
            "text/markdown": "\nA data.frame: 4 × 2\n\n| ID &lt;dbl&gt; | Value &lt;chr&gt; |\n|---|---|\n| 1 | 5.2      |\n| 2 | 8.1      |\n| 3 | not_long |\n| 4 | 12.7     |\n\n",
            "text/latex": "A data.frame: 4 × 2\n\\begin{tabular}{ll}\n ID & Value\\\\\n <dbl> & <chr>\\\\\n\\hline\n\t 1 & 5.2     \\\\\n\t 2 & 8.1     \\\\\n\t 3 & not\\_long\\\\\n\t 4 & 12.7    \\\\\n\\end{tabular}\n",
            "text/plain": [
              "  ID Value   \n",
              "1 1  5.2     \n",
              "2 2  8.1     \n",
              "3 3  not_long\n",
              "4 4  12.7    "
            ]
          },
          "metadata": {}
        }
      ]
    }
  ]
}